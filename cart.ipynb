{
 "cells": [
  {
   "cell_type": "code",
   "execution_count": null,
   "metadata": {},
   "outputs": [
    {
     "name": "stdout",
     "output_type": "stream",
     "text": [
      "Matriz de Confusão:\n",
      "[[ 45   1   0   0]\n",
      " [  0 159  12   0]\n",
      " [  0  11  63   3]\n",
      " [  0   0   0   6]]\n",
      "\n",
      "Relatório de Classificação:\n",
      "              precision    recall  f1-score   support\n",
      "\n",
      "           1       1.00      0.98      0.99        46\n",
      "           2       0.93      0.93      0.93       171\n",
      "           3       0.84      0.82      0.83        77\n",
      "           4       0.67      1.00      0.80         6\n",
      "\n",
      "    accuracy                           0.91       300\n",
      "   macro avg       0.86      0.93      0.89       300\n",
      "weighted avg       0.91      0.91      0.91       300\n",
      "\n",
      "Resultados da classificação CART salvos no arquivo 'classificacao_CART_resultados.csv'.\n"
     ]
    }
   ],
   "source": [
    "import pandas as pd\n",
    "from sklearn.model_selection import train_test_split\n",
    "from sklearn.preprocessing import StandardScaler\n",
    "from sklearn.tree import DecisionTreeClassifier\n",
    "from sklearn.metrics import classification_report, confusion_matrix\n",
    "\n",
    "data = pd.read_csv(\n",
    "    \"treino_sinais_vitais_com_label.csv\"\n",
    ")  \n",
    "\n",
    "X = data[[\"si3\", \"si4\", \"si5\"]].values  \n",
    "y = data[\"yi\"].values  \n",
    "\n",
    "X_train, X_test, y_train, y_test = train_test_split(\n",
    "    X, y, test_size=0.2, random_state=42\n",
    ")\n",
    "\n",
    "scaler = StandardScaler()\n",
    "X_train = scaler.fit_transform(X_train)\n",
    "X_test = scaler.transform(X_test)\n",
    "\n",
    "cart_classifier = DecisionTreeClassifier(criterion=\"gini\", random_state=42)\n",
    "cart_classifier.fit(X_train, y_train)\n",
    "\n",
    "y_pred = cart_classifier.predict(X_test)\n",
    "\n",
    "print(\"Matriz de Confusão:\")\n",
    "print(confusion_matrix(y_test, y_pred))\n",
    "print(\"\\nRelatório de Classificação:\")\n",
    "print(classification_report(y_test, y_pred))\n",
    "\n",
    "test_results_cart = pd.DataFrame(X_test, columns=[\"si3\", \"si4\", \"si5\"])\n",
    "test_results_cart[\"true_class\"] = y_test\n",
    "test_results_cart[\"predicted_class\"] = y_pred\n",
    "test_results_cart.to_csv(\"classificacao_CART_resultados.csv\", index=False)\n",
    "\n",
    "print(\n",
    "    \"Resultados da classificação CART salvos no arquivo 'classificacao_CART_resultados.csv'.\"\n",
    ")"
   ]
  }
 ],
 "metadata": {
  "kernelspec": {
   "display_name": ".venv",
   "language": "python",
   "name": "python3"
  },
  "language_info": {
   "codemirror_mode": {
    "name": "ipython",
    "version": 3
   },
   "file_extension": ".py",
   "mimetype": "text/x-python",
   "name": "python",
   "nbconvert_exporter": "python",
   "pygments_lexer": "ipython3",
   "version": "3.12.3"
  }
 },
 "nbformat": 4,
 "nbformat_minor": 2
}
