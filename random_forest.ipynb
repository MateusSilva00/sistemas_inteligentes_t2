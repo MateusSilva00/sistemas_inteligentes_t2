{
 "cells": [
  {
   "cell_type": "code",
   "execution_count": 2,
   "metadata": {},
   "outputs": [
    {
     "name": "stderr",
     "output_type": "stream",
     "text": [
      "[Parallel(n_jobs=1)]: Done  49 tasks      | elapsed:    0.4s\n",
      "[Parallel(n_jobs=1)]: Done 199 tasks      | elapsed:    1.7s\n",
      "[Parallel(n_jobs=1)]: Done 449 tasks      | elapsed:    3.8s\n",
      "[Parallel(n_jobs=1)]: Done 799 tasks      | elapsed:    7.1s\n",
      "[Parallel(n_jobs=1)]: Done  49 tasks      | elapsed:    0.0s\n",
      "[Parallel(n_jobs=1)]: Done 199 tasks      | elapsed:    0.0s\n",
      "[Parallel(n_jobs=1)]: Done 449 tasks      | elapsed:    0.0s\n",
      "[Parallel(n_jobs=1)]: Done 799 tasks      | elapsed:    0.1s\n"
     ]
    }
   ],
   "source": [
    "import pandas as pd\n",
    "from sklearn.model_selection import train_test_split\n",
    "from sklearn.preprocessing import StandardScaler\n",
    "from sklearn.ensemble import RandomForestRegressor\n",
    "from sklearn.metrics import mean_absolute_error\n",
    "\n",
    "data = pd.read_csv(\"treino_sinais_vitais_com_label.csv\")\n",
    "\n",
    "X = data[[\"si3\", \"si4\", \"si5\"]].values\n",
    "y = data[\"gi\"].values\n",
    "\n",
    "X_train, X_test, y_train, y_test = train_test_split(\n",
    "    X, y, test_size=0.35, random_state=42\n",
    ")\n",
    "\n",
    "scaler = StandardScaler()\n",
    "X_train = scaler.fit_transform(X_train)\n",
    "X_test = scaler.transform(X_test)\n",
    "\n",
    "rf_regressor = RandomForestRegressor(\n",
    "    n_estimators=1000,\n",
    "    max_depth=15,  # Limitando a profundidade para evitar overfitting\n",
    "    min_samples_leaf=3,  # Garantindo que cada folha tenha pelo menos 3 amostras\n",
    "    criterion=\"absolute_error\",  # Mantendo o critério como mse, você pode testar 'mae' também\n",
    "    random_state=42,\n",
    "    verbose=1,\n",
    ")\n",
    "rf_regressor.fit(X_train, y_train)\n",
    "\n",
    "y_pred = rf_regressor.predict(X_test)"
   ]
  },
  {
   "cell_type": "code",
   "execution_count": 3,
   "metadata": {},
   "outputs": [
    {
     "name": "stdout",
     "output_type": "stream",
     "text": [
      "RMSE (Random Forest Regressor): 2.1428\n"
     ]
    },
    {
     "data": {
      "text/html": [
       "<div>\n",
       "<style scoped>\n",
       "    .dataframe tbody tr th:only-of-type {\n",
       "        vertical-align: middle;\n",
       "    }\n",
       "\n",
       "    .dataframe tbody tr th {\n",
       "        vertical-align: top;\n",
       "    }\n",
       "\n",
       "    .dataframe thead th {\n",
       "        text-align: right;\n",
       "    }\n",
       "</style>\n",
       "<table border=\"1\" class=\"dataframe\">\n",
       "  <thead>\n",
       "    <tr style=\"text-align: right;\">\n",
       "      <th></th>\n",
       "      <th>Real</th>\n",
       "      <th>Predito</th>\n",
       "    </tr>\n",
       "  </thead>\n",
       "  <tbody>\n",
       "    <tr>\n",
       "      <th>0</th>\n",
       "      <td>14.294521</td>\n",
       "      <td>17.254731</td>\n",
       "    </tr>\n",
       "    <tr>\n",
       "      <th>1</th>\n",
       "      <td>23.728687</td>\n",
       "      <td>24.702518</td>\n",
       "    </tr>\n",
       "    <tr>\n",
       "      <th>2</th>\n",
       "      <td>37.589263</td>\n",
       "      <td>34.721861</td>\n",
       "    </tr>\n",
       "    <tr>\n",
       "      <th>3</th>\n",
       "      <td>37.477275</td>\n",
       "      <td>37.214825</td>\n",
       "    </tr>\n",
       "    <tr>\n",
       "      <th>4</th>\n",
       "      <td>49.535736</td>\n",
       "      <td>52.464294</td>\n",
       "    </tr>\n",
       "    <tr>\n",
       "      <th>5</th>\n",
       "      <td>45.855634</td>\n",
       "      <td>46.116639</td>\n",
       "    </tr>\n",
       "    <tr>\n",
       "      <th>6</th>\n",
       "      <td>60.911514</td>\n",
       "      <td>58.567010</td>\n",
       "    </tr>\n",
       "    <tr>\n",
       "      <th>7</th>\n",
       "      <td>72.971933</td>\n",
       "      <td>73.211633</td>\n",
       "    </tr>\n",
       "    <tr>\n",
       "      <th>8</th>\n",
       "      <td>34.652059</td>\n",
       "      <td>34.091672</td>\n",
       "    </tr>\n",
       "    <tr>\n",
       "      <th>9</th>\n",
       "      <td>40.000000</td>\n",
       "      <td>38.144676</td>\n",
       "    </tr>\n",
       "  </tbody>\n",
       "</table>\n",
       "</div>"
      ],
      "text/plain": [
       "        Real    Predito\n",
       "0  14.294521  17.254731\n",
       "1  23.728687  24.702518\n",
       "2  37.589263  34.721861\n",
       "3  37.477275  37.214825\n",
       "4  49.535736  52.464294\n",
       "5  45.855634  46.116639\n",
       "6  60.911514  58.567010\n",
       "7  72.971933  73.211633\n",
       "8  34.652059  34.091672\n",
       "9  40.000000  38.144676"
      ]
     },
     "execution_count": 3,
     "metadata": {},
     "output_type": "execute_result"
    }
   ],
   "source": [
    "rmse = mean_absolute_error(y_test, y_pred)\n",
    "print(f\"RMSE (Random Forest Regressor): {rmse:.4f}\")\n",
    "\n",
    "results = pd.DataFrame({\"Real\": y_test, \"Predito\": y_pred})\n",
    "results.head(10)"
   ]
  },
  {
   "cell_type": "code",
   "execution_count": 5,
   "metadata": {},
   "outputs": [
    {
     "name": "stdout",
     "output_type": "stream",
     "text": [
      "Predições corretas dentro da margem de erro de 10%: 447 de 525\n"
     ]
    }
   ],
   "source": [
    "# Definir uma margem de erro (10% do valor real)\n",
    "margin = 0.10 * y_test\n",
    "\n",
    "# Contar quantas predições estão dentro da margem de erro\n",
    "correct_predictions = sum(abs(y_pred - y_test) <= margin)\n",
    "\n",
    "print(f\"Predições corretas dentro da margem de erro de 10%: {correct_predictions} de {len(y_test)}\")\n"
   ]
  }
 ],
 "metadata": {
  "kernelspec": {
   "display_name": "Python 3",
   "language": "python",
   "name": "python3"
  },
  "language_info": {
   "codemirror_mode": {
    "name": "ipython",
    "version": 3
   },
   "file_extension": ".py",
   "mimetype": "text/x-python",
   "name": "python",
   "nbconvert_exporter": "python",
   "pygments_lexer": "ipython3",
   "version": "3.12.3"
  }
 },
 "nbformat": 4,
 "nbformat_minor": 2
}
